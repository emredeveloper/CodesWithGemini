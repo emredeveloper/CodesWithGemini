{
 "cells": [
  {
   "cell_type": "markdown",
   "metadata": {},
   "source": [
    "![](https://cdn.analyticsvidhya.com/wp-content/uploads/2023/12/final_keyword_header.width-1600.format-webp.webp)"
   ]
  },
  {
   "cell_type": "markdown",
   "metadata": {},
   "source": [
    "<div class=\"anchor\" id=\"top\" style=\"\n",
    "    margin-right: auto; \n",
    "    margin-left: auto;\n",
    "    padding: 10px;\n",
    "   font-size : 120%;\n",
    "    background-color: #17191e                                ;\n",
    "    border-radius: 2px;\n",
    "    color :  #FFFAEC  ;        \n",
    "    border: 2px solid #FFF6D8;\">\n",
    "  \n",
    "### Workflow :\n",
    "1. Download a video from any link (Can also use it by loading it as a dataset folder)\n",
    "2. Extract Frames from the video\n",
    "3. Extract key-frames from the video based on structural similarity (adjustable threshold)\n",
    "4. Pass the extracted key frames as images along with intructions and prompts to the Gemini Pro Vision model.\n",
    "5. Gemini performs excellently on the given task"
   ]
  },
  {
   "cell_type": "code",
   "execution_count": 1,
   "metadata": {
    "_cell_guid": "03d3df50-d945-4192-aa17-f88262b8e5f6",
    "_uuid": "061c2e2d-8c74-472f-a9d4-d9ec92022bfa",
    "collapsed": false,
    "jupyter": {
     "outputs_hidden": false
    }
   },
   "outputs": [],
   "source": [
    "# Get the API key from here: https://ai.google.dev/tutorials/setup\n",
    "# Create a new secret called \"GEMINI_API_KEY\" via Add-ons -> Secrets in the top menu, and attach it to this notebook.\n",
    "from IPython.display import display\n",
    "from IPython.display import Markdown\n",
    "\n",
    "import pathlib\n",
    "import textwrap\n",
    "\n",
    "apiKey = \"\"\n",
    "\n",
    "def to_markdown(text):\n",
    "  text = text.replace('•', '  *')\n",
    "  return Markdown(textwrap.indent(text, '> ', predicate=lambda _: True))"
   ]
  },
  {
   "cell_type": "markdown",
   "metadata": {},
   "source": [
    "<div class=\"anchor\" id=\"top\" style=\"\n",
    "    margin-right: auto; \n",
    "    margin-left: auto;\n",
    "    padding: 10px;\n",
    "   font-size : 120%;\n",
    "    background-color: #F9F1FF                                ;\n",
    "    border-radius: 2px;      \n",
    "    border: 2px solid #FFF6D8;\">\n",
    "\n",
    "- Gemini's API is freely accessible as of now with limited capabilities, get your own API key from this link : https://ai.google.dev/tutorials/setup\n",
    "- Paste the link named `API_KEY` in the `Secret-key` in the `Add-ons` menu above."
   ]
  },
  {
   "cell_type": "markdown",
   "metadata": {},
   "source": [
    "<div class=\"anchor\" id=\"top\" style=\"\n",
    "    margin-right: auto; \n",
    "    margin-left: auto;\n",
    "    padding: 10px;\n",
    "   font-size : 120%;\n",
    "    background-color: #17191e                                ;\n",
    "    border-radius: 2px;\n",
    "    color :  #FFFAEC  ;        \n",
    "    border: 2px solid #FFF6D8;\">\n",
    "    \n",
    "    \n",
    "- [Pytube](https://pytube.io/en/latest/) is being used to download one of a youtube video (its highest resolution, i.e. mp4)\n",
    "- Link is passed in the Youtube Object that saves the video to kaggle directory"
   ]
  },
  {
   "cell_type": "code",
   "execution_count": 2,
   "metadata": {},
   "outputs": [
    {
     "name": "stdout",
     "output_type": "stream",
     "text": [
      "Requirement already satisfied: pytube in ./.conda/lib/python3.12/site-packages (15.0.0)\n"
     ]
    },
    {
     "data": {
      "text/plain": [
       "'/workspaces/CodesWithGemini/HOW TO ORGANISE NOTES shorts.mp4'"
      ]
     },
     "execution_count": 2,
     "metadata": {},
     "output_type": "execute_result"
    }
   ],
   "source": [
    "!pip install pytube\n",
    "from pytube import YouTube\n",
    "\n",
    "YouTube('https://youtube.com/shorts/pEiri8rHpYs?si=gWkKd3tlaMqgSuY0').streams.get_highest_resolution().download()\n"
   ]
  },
  {
   "cell_type": "markdown",
   "metadata": {},
   "source": [
    "<div class=\"anchor\" id=\"top\" style=\"\n",
    "    margin-right: auto; \n",
    "    margin-left: auto;\n",
    "    padding: 10px;\n",
    "   font-size : 120%;\n",
    "    background-color: #F9F1FF                                ;\n",
    "    border-radius: 2px;       \n",
    "    border: 2px solid #FFF6D8;\">\n",
    "\n",
    "Importing Required Libraries"
   ]
  },
  {
   "cell_type": "code",
   "execution_count": 3,
   "metadata": {},
   "outputs": [
    {
     "name": "stdout",
     "output_type": "stream",
     "text": [
      "Requirement already satisfied: opencv-python in ./.conda/lib/python3.12/site-packages (4.8.1.78)\n",
      "Requirement already satisfied: numpy>=1.21.2 in ./.conda/lib/python3.12/site-packages (from opencv-python) (1.26.2)\n",
      "Note: you may need to restart the kernel to use updated packages.\n"
     ]
    }
   ],
   "source": [
    "%pip install opencv-python"
   ]
  },
  {
   "cell_type": "code",
   "execution_count": 4,
   "metadata": {},
   "outputs": [
    {
     "name": "stdout",
     "output_type": "stream",
     "text": [
      "Requirement already satisfied: pandas in ./.conda/lib/python3.12/site-packages (2.1.4)\n",
      "Requirement already satisfied: numpy in ./.conda/lib/python3.12/site-packages (1.26.2)\n",
      "Requirement already satisfied: opencv-python in ./.conda/lib/python3.12/site-packages (4.8.1.78)\n",
      "Requirement already satisfied: matplotlib in ./.conda/lib/python3.12/site-packages (3.8.2)\n",
      "Requirement already satisfied: tqdm in ./.conda/lib/python3.12/site-packages (4.66.1)\n",
      "Requirement already satisfied: python-dateutil>=2.8.2 in ./.conda/lib/python3.12/site-packages (from pandas) (2.8.2)\n",
      "Requirement already satisfied: pytz>=2020.1 in ./.conda/lib/python3.12/site-packages (from pandas) (2023.3.post1)\n",
      "Requirement already satisfied: tzdata>=2022.1 in ./.conda/lib/python3.12/site-packages (from pandas) (2023.3)\n",
      "Requirement already satisfied: contourpy>=1.0.1 in ./.conda/lib/python3.12/site-packages (from matplotlib) (1.2.0)\n",
      "Requirement already satisfied: cycler>=0.10 in ./.conda/lib/python3.12/site-packages (from matplotlib) (0.12.1)\n",
      "Requirement already satisfied: fonttools>=4.22.0 in ./.conda/lib/python3.12/site-packages (from matplotlib) (4.47.0)\n",
      "Requirement already satisfied: kiwisolver>=1.3.1 in ./.conda/lib/python3.12/site-packages (from matplotlib) (1.4.5)\n",
      "Requirement already satisfied: packaging>=20.0 in ./.conda/lib/python3.12/site-packages (from matplotlib) (23.2)\n",
      "Requirement already satisfied: pillow>=8 in ./.conda/lib/python3.12/site-packages (from matplotlib) (10.1.0)\n",
      "Requirement already satisfied: pyparsing>=2.3.1 in ./.conda/lib/python3.12/site-packages (from matplotlib) (3.1.1)\n",
      "Requirement already satisfied: six>=1.5 in ./.conda/lib/python3.12/site-packages (from python-dateutil>=2.8.2->pandas) (1.16.0)\n",
      "Note: you may need to restart the kernel to use updated packages.\n"
     ]
    }
   ],
   "source": [
    "%pip install pandas numpy opencv-python matplotlib tqdm\n"
   ]
  },
  {
   "cell_type": "code",
   "execution_count": 5,
   "metadata": {},
   "outputs": [],
   "source": [
    "import pandas as pd\n",
    "import numpy as np\n",
    "\n",
    "import matplotlib.pyplot as plt\n",
    "from glob import glob\n",
    "import IPython.display as ipd\n",
    "from tqdm import tqdm\n",
    "import subprocess"
   ]
  },
  {
   "cell_type": "markdown",
   "metadata": {},
   "source": [
    "<div class=\"anchor\" id=\"top\" style=\"\n",
    "    margin-right: auto; \n",
    "    margin-left: auto;\n",
    "    padding: 10px;\n",
    "   font-size : 120%;\n",
    "    background-color: #17191e                                ;\n",
    "    border-radius: 2px;\n",
    "    color :  #FFFAEC  ;        \n",
    "    border: 2px solid #FFF6D8;\">\n",
    "Checking the file name of the only file in the directory"
   ]
  },
  {
   "cell_type": "code",
   "execution_count": 6,
   "metadata": {},
   "outputs": [
    {
     "data": {
      "text/plain": [
       "'HOW TO ORGANISE NOTES shorts.mp4'"
      ]
     },
     "execution_count": 6,
     "metadata": {},
     "output_type": "execute_result"
    }
   ],
   "source": [
    "file_name = !ls\n",
    "type(str(file_name))\n",
    "file_name[0]"
   ]
  },
  {
   "cell_type": "markdown",
   "metadata": {},
   "source": [
    "<div class=\"anchor\" id=\"top\" style=\"\n",
    "    margin-right: auto; \n",
    "    margin-left: auto;\n",
    "    padding: 10px;\n",
    "   font-size : 120%;\n",
    "    background-color: #F9F1FF                                ;\n",
    "    border-radius: 2px;      \n",
    "    border: 2px solid #FFF6D8;\">\n",
    "    \n",
    "- The youtube video, if not in mp4 can be converted to mp4 using [subprocess](https://docs.python.org/3/library/subprocess.html) module , for further processing\n",
    "- Filename of the converted video set to : `mp4_converted_video.mp4`"
   ]
  },
  {
   "cell_type": "markdown",
   "metadata": {},
   "source": [
    "<div class=\"anchor\" id=\"top\" style=\"\n",
    "    margin-right: auto; \n",
    "    margin-left: auto;\n",
    "    padding: 10px;\n",
    "   font-size : 120%;\n",
    "    background-color: #17191e                                ;\n",
    "    border-radius: 2px;\n",
    "    color :  #FFFAEC  ;        \n",
    "    border: 2px solid #FFF6D8;\">\n",
    "    \n",
    "- Playing the video"
   ]
  },
  {
   "cell_type": "code",
   "execution_count": 7,
   "metadata": {},
   "outputs": [],
   "source": [
    "ipd.Video('mp4_converted_video.mp4', width=200,embed= True)"
   ]
  },
  {
   "cell_type": "markdown",
   "metadata": {},
   "source": [
    "<div class=\"anchor\" id=\"top\" style=\"\n",
    "    margin-right: auto; \n",
    "    margin-left: auto;\n",
    "    padding: 10px;\n",
    "   font-size : 120%;\n",
    "    background-color: #17191e                                ;\n",
    "    border-radius: 2px;\n",
    "    color :  #FFFAEC  ;        \n",
    "    border: 2px solid #FFF6D8;\">\n",
    "\n",
    "- Using [OpenCV](https://opencv.org/) in Python to create a VideoCapture object to read frames from a video file named 'mp4_converted_video.mp4'\n",
    "    "
   ]
  },
  {
   "cell_type": "code",
   "execution_count": null,
   "metadata": {},
   "outputs": [],
   "source": [
    "import cv2"
   ]
  },
  {
   "cell_type": "code",
   "execution_count": null,
   "metadata": {},
   "outputs": [],
   "source": [
    "cap = cv2.VideoCapture('HOW TO ORGANISE NOTES shorts.mp4')"
   ]
  },
  {
   "cell_type": "code",
   "execution_count": null,
   "metadata": {},
   "outputs": [
    {
     "data": {
      "text/plain": [
       "1780.0"
      ]
     },
     "execution_count": 22,
     "metadata": {},
     "output_type": "execute_result"
    }
   ],
   "source": [
    "# Total number of frames in video\n",
    "cap.get(cv2.CAP_PROP_FRAME_COUNT)"
   ]
  },
  {
   "cell_type": "code",
   "execution_count": null,
   "metadata": {},
   "outputs": [
    {
     "name": "stdout",
     "output_type": "stream",
     "text": [
      "Height 1280.0, Width 720.0\n"
     ]
    }
   ],
   "source": [
    "# Video height and width\n",
    "height = cap.get(cv2.CAP_PROP_FRAME_HEIGHT)\n",
    "width = cap.get(cv2.CAP_PROP_FRAME_WIDTH)\n",
    "print(f'Height {height}, Width {width}')"
   ]
  },
  {
   "cell_type": "code",
   "execution_count": null,
   "metadata": {},
   "outputs": [
    {
     "name": "stdout",
     "output_type": "stream",
     "text": [
      "FPS : 30.00\n"
     ]
    }
   ],
   "source": [
    "# Get frames per second\n",
    "fps = cap.get(cv2.CAP_PROP_FPS)\n",
    "print(f'FPS : {fps:0.2f}')  "
   ]
  },
  {
   "cell_type": "code",
   "execution_count": null,
   "metadata": {},
   "outputs": [
    {
     "name": "stdout",
     "output_type": "stream",
     "text": [
      "Returned True and img of shape (1280, 720, 3)\n"
     ]
    }
   ],
   "source": [
    "cap = cv2.VideoCapture('HOW TO ORGANISE NOTES shorts.mp4')\n",
    "ret, img = cap.read()\n",
    "print(f'Returned {ret} and img of shape {img.shape}')"
   ]
  },
  {
   "cell_type": "markdown",
   "metadata": {},
   "source": [
    "<div class=\"anchor\" id=\"top\" style=\"\n",
    "    margin-right: auto; \n",
    "    margin-left: auto;\n",
    "    padding: 10px;\n",
    "   font-size : 120%;\n",
    "    background-color: #17191e                                ;\n",
    "    border-radius: 2px;\n",
    "    color :  #FFFAEC  ;        \n",
    "    border: 2px solid #FFF6D8;\">\n",
    "\n",
    "- Plotting some of the frames to visualise the images\n",
    "    \n",
    "    "
   ]
  },
  {
   "cell_type": "code",
   "execution_count": null,
   "metadata": {
    "execution": {
     "iopub.execute_input": "2023-12-21T13:15:44.752961Z",
     "iopub.status.busy": "2023-12-21T13:15:44.752586Z",
     "iopub.status.idle": "2023-12-21T13:15:55.117676Z",
     "shell.execute_reply": "2023-12-21T13:15:55.116019Z",
     "shell.execute_reply.started": "2023-12-21T13:15:44.752930Z"
    }
   },
   "outputs": [],
   "source": [
    "fig, axs = plt.subplots(3, 5, figsize=(30, 20))\n",
    "axs = axs.flatten()\n",
    "\n",
    "cap = cv2.VideoCapture(\"mp4_converted_video.mp4\")\n",
    "n_frames = int(cap.get(cv2.CAP_PROP_FRAME_COUNT))\n",
    "\n",
    "img_idx = 0\n",
    "for frame in range(n_frames):\n",
    "    ret, img = cap.read()\n",
    "    if frame == 1500:\n",
    "        break\n",
    "    if frame % 100 == 0:\n",
    "        axs[img_idx].imshow(cv2.cvtColor(img, cv2.COLOR_BGR2RGB))\n",
    "        axs[img_idx].set_title(f'Frame: {frame}')\n",
    "        axs[img_idx].axis('off')\n",
    "        img_idx += 1\n",
    "\n",
    "plt.tight_layout()\n",
    "plt.show()\n",
    "cap.release()"
   ]
  },
  {
   "cell_type": "markdown",
   "metadata": {},
   "source": [
    "<div class=\"anchor\" id=\"top\" style=\"\n",
    "    margin-right: auto; \n",
    "    margin-left: auto;\n",
    "    padding: 10px;\n",
    "   font-size : 120%;\n",
    "    background-color: #F9F1FF ;                               ;\n",
    "    border-radius: 2px;       \n",
    "    border: 2px solid #FFF6D8;\">\n",
    "    \n",
    "- [SSIM](https://en.wikipedia.org/wiki/Structural_similarity#:~:text=The%20structural%20similarity%20index%20measure,of%20digital%20images%20and%20videos.) is used for measuring the similarity between two images : [scikit-image](https://scikit-image.org/docs/stable/auto_examples/transform/plot_ssim.html) \n",
    "- Defining a threshold for similarity index\n",
    "- This is not the only /best way to extract the key frames. Try using different approaches for better performance\n",
    "- The selected frames are being stored in an output directory named `selected_frames`"
   ]
  },
  {
   "cell_type": "code",
   "execution_count": null,
   "metadata": {
    "execution": {
     "iopub.execute_input": "2023-12-21T13:16:22.524110Z",
     "iopub.status.busy": "2023-12-21T13:16:22.523705Z"
    }
   },
   "outputs": [],
   "source": [
    "from skimage.metrics import structural_similarity as ssim\n",
    "import os\n",
    "\n",
    "# Opening the video file\n",
    "cap = cv2.VideoCapture(\"mp4_converted_video.mp4\")\n",
    "n_frames = int(cap.get(cv2.CAP_PROP_FRAME_COUNT))\n",
    "\n",
    "# Creating a directory to save the selected frames\n",
    "output_directory = 'selected_frames'\n",
    "os.makedirs(output_directory, exist_ok=True)\n",
    "\n",
    "selected_frames = []\n",
    "previous_frame = None\n",
    "threshold = 0.5  # threshold \n",
    "\n",
    "for frame_idx in tqdm(range(n_frames), desc=\"Processing Frames\"):\n",
    "    ret, img = cap.read()\n",
    "\n",
    "    if not ret:\n",
    "        break\n",
    "\n",
    "    # Splitting the frame into RGB channels\n",
    "    b, g, r = cv2.split(img)\n",
    "\n",
    "    if previous_frame is not None:\n",
    "        # Structural Similarity Index (SSI) for each channel\n",
    "        ssim_b, _ = ssim(previous_frame[0], b, full=True)\n",
    "        ssim_g, _ = ssim(previous_frame[1], g, full=True)\n",
    "        ssim_r, _ = ssim(previous_frame[2], r, full=True)\n",
    "\n",
    "        # Combining the SSIM scores from each channel\n",
    "        similarity_index = (ssim_b + ssim_g + ssim_r) / 3\n",
    "\n",
    "        # If frames are distinct enough, then only adding the current frame to the selected frames\n",
    "        if similarity_index < threshold:\n",
    "            selected_frames.append(img)\n",
    "\n",
    "            # Saving the selected frame to the output directory\n",
    "            frame_filename = os.path.join(output_directory, f\"frame_{frame_idx:04d}.png\")\n",
    "            cv2.imwrite(frame_filename, img)\n",
    "\n",
    "    previous_frame = cv2.split(img)\n",
    "\n",
    "# Releasing the video capture object to free the space captured\n",
    "cap.release()\n"
   ]
  },
  {
   "cell_type": "code",
   "execution_count": null,
   "metadata": {
    "execution": {
     "iopub.execute_input": "2023-12-18T08:57:13.47809Z",
     "iopub.status.busy": "2023-12-18T08:57:13.477659Z",
     "iopub.status.idle": "2023-12-18T08:57:13.484769Z",
     "shell.execute_reply": "2023-12-18T08:57:13.483677Z",
     "shell.execute_reply.started": "2023-12-18T08:57:13.478058Z"
    }
   },
   "outputs": [],
   "source": [
    "print(f'Total key frames based on the threshold chosen : {len(selected_frames)}')"
   ]
  },
  {
   "cell_type": "code",
   "execution_count": null,
   "metadata": {
    "execution": {
     "iopub.execute_input": "2023-12-18T08:57:15.76133Z",
     "iopub.status.busy": "2023-12-18T08:57:15.759907Z",
     "iopub.status.idle": "2023-12-18T08:57:18.257794Z",
     "shell.execute_reply": "2023-12-18T08:57:18.25655Z",
     "shell.execute_reply.started": "2023-12-18T08:57:15.761252Z"
    }
   },
   "outputs": [],
   "source": [
    "# Selected frames display\n",
    "fig, axs = plt.subplots(1, len(selected_frames), figsize=(30, 10))\n",
    "\n",
    "for i, frame in enumerate(selected_frames):\n",
    "    axs[i].imshow(cv2.cvtColor(frame, cv2.COLOR_BGR2RGB))\n",
    "    axs[i].set_title(f'Selected Frame {i}')\n",
    "    axs[i].axis('off')\n",
    "\n",
    "plt.show()"
   ]
  },
  {
   "cell_type": "markdown",
   "metadata": {},
   "source": [
    "<div class=\"anchor\" id=\"top\" style=\"\n",
    "    margin-right: auto; \n",
    "    margin-left: auto;\n",
    "    padding: 10px;\n",
    "   font-size : 120%;\n",
    "    background-color: #F9F1FF                                ;\n",
    "    border-radius: 2px;      \n",
    "    border: 2px solid #FFF6D8;\">\n",
    "    \n",
    "The grayscale images are stored in `selected_frames` directory in png format"
   ]
  },
  {
   "cell_type": "code",
   "execution_count": null,
   "metadata": {
    "execution": {
     "iopub.execute_input": "2023-12-18T08:57:28.856822Z",
     "iopub.status.busy": "2023-12-18T08:57:28.856147Z",
     "iopub.status.idle": "2023-12-18T08:57:28.864889Z",
     "shell.execute_reply": "2023-12-18T08:57:28.863606Z",
     "shell.execute_reply.started": "2023-12-18T08:57:28.856788Z"
    }
   },
   "outputs": [],
   "source": [
    "os.listdir('selected_frames')"
   ]
  },
  {
   "cell_type": "markdown",
   "metadata": {},
   "source": [
    "<div class=\"anchor\" id=\"top\" style=\"\n",
    "    margin-right: auto; \n",
    "    margin-left: auto;\n",
    "    padding: 10px;\n",
    "   font-size : 120%;\n",
    "    background-color: #17191e                                ;\n",
    "    border-radius: 2px;\n",
    "    color :  #FFFAEC  ;        \n",
    "    border: 2px solid #FFF6D8;\">\n",
    "    \n",
    "- Configuring the API Key based on genai module"
   ]
  },
  {
   "cell_type": "code",
   "execution_count": null,
   "metadata": {
    "execution": {
     "iopub.execute_input": "2023-12-18T07:48:47.169494Z",
     "iopub.status.busy": "2023-12-18T07:48:47.169083Z",
     "iopub.status.idle": "2023-12-18T07:48:47.837119Z",
     "shell.execute_reply": "2023-12-18T07:48:47.835937Z",
     "shell.execute_reply.started": "2023-12-18T07:48:47.169458Z"
    }
   },
   "outputs": [],
   "source": [
    "import google.generativeai as genai\n",
    "\n",
    "genai.configure(api_key = apiKey)"
   ]
  },
  {
   "cell_type": "markdown",
   "metadata": {},
   "source": [
    "<div class=\"anchor\" id=\"top\" style=\"\n",
    "    margin-right: auto; \n",
    "    margin-left: auto;\n",
    "    padding: 10px;\n",
    "   font-size : 120%;\n",
    "    background-color: #F9F1FF                                ;\n",
    "    border-radius: 2px;       \n",
    "    border: 2px solid #FFF6D8;\">\n",
    "    \n",
    "Converting the images into PIL format for passing to the model"
   ]
  },
  {
   "cell_type": "code",
   "execution_count": null,
   "metadata": {
    "execution": {
     "iopub.execute_input": "2023-12-18T07:48:47.848615Z",
     "iopub.status.busy": "2023-12-18T07:48:47.848148Z",
     "iopub.status.idle": "2023-12-18T07:48:47.85902Z",
     "shell.execute_reply": "2023-12-18T07:48:47.857904Z",
     "shell.execute_reply.started": "2023-12-18T07:48:47.848584Z"
    }
   },
   "outputs": [],
   "source": [
    "import PIL.Image\n",
    "images = []\n",
    "for i in os.listdir('selected_frames') : \n",
    "    img = PIL.Image.open(f'selected_frames/{i}')\n",
    "    images.append(img)"
   ]
  },
  {
   "cell_type": "markdown",
   "metadata": {},
   "source": [
    "<div class=\"anchor\" id=\"top\" style=\"\n",
    "    margin-right: auto; \n",
    "    margin-left: auto;\n",
    "    padding: 10px;\n",
    "   font-size : 120%;\n",
    "    background-color: #F9F1FF  ;                           ;\n",
    "    border-radius: 2px;       \n",
    "    border: 2px solid #FFF6D8;\">\n",
    "    \n",
    "The image looks like this :"
   ]
  },
  {
   "cell_type": "code",
   "execution_count": null,
   "metadata": {
    "execution": {
     "iopub.execute_input": "2023-12-18T08:59:40.398479Z",
     "iopub.status.busy": "2023-12-18T08:59:40.398008Z",
     "iopub.status.idle": "2023-12-18T08:59:40.406414Z",
     "shell.execute_reply": "2023-12-18T08:59:40.405143Z",
     "shell.execute_reply.started": "2023-12-18T08:59:40.398412Z"
    }
   },
   "outputs": [],
   "source": [
    "images[0]"
   ]
  },
  {
   "cell_type": "markdown",
   "metadata": {},
   "source": [
    "<div class=\"anchor\" id=\"top\" style=\"\n",
    "    margin-right: auto; \n",
    "    margin-left: auto;\n",
    "    padding: 10px;\n",
    "   font-size : 120%;\n",
    "    background-color: #F9F1FF                                ;\n",
    "    border-radius: 2px;      \n",
    "    border: 2px solid #FFF6D8;\">\n",
    "    \n",
    "Generate text from image and text prompts using `gemini-pro-vision`. Calling the model :"
   ]
  },
  {
   "cell_type": "code",
   "execution_count": null,
   "metadata": {
    "execution": {
     "iopub.execute_input": "2023-12-18T07:48:47.998769Z",
     "iopub.status.busy": "2023-12-18T07:48:47.99838Z",
     "iopub.status.idle": "2023-12-18T07:48:48.004694Z",
     "shell.execute_reply": "2023-12-18T07:48:48.003237Z",
     "shell.execute_reply.started": "2023-12-18T07:48:47.998737Z"
    }
   },
   "outputs": [],
   "source": [
    "model = genai.GenerativeModel('gemini-pro-vision')"
   ]
  },
  {
   "cell_type": "markdown",
   "metadata": {},
   "source": [
    "<div class=\"anchor\" id=\"top\" style=\"\n",
    "    margin-right: auto; \n",
    "    margin-left: auto;\n",
    "    padding: 10px;\n",
    "   font-size : 120%;\n",
    "    background-color: #17191e                                ;\n",
    "    border-radius: 2px;\n",
    "    color :  #FFFAEC  ;        \n",
    "    border: 2px solid #FFF6D8;\">\n",
    "    \n",
    "- Passing the instructions, prompts and some saved images  to the model for evaluation"
   ]
  },
  {
   "cell_type": "code",
   "execution_count": null,
   "metadata": {
    "execution": {
     "iopub.execute_input": "2023-12-18T09:18:12.237049Z",
     "iopub.status.busy": "2023-12-18T09:18:12.236623Z",
     "iopub.status.idle": "2023-12-18T09:18:28.269391Z",
     "shell.execute_reply": "2023-12-18T09:18:28.26799Z",
     "shell.execute_reply.started": "2023-12-18T09:18:12.237016Z"
    }
   },
   "outputs": [],
   "source": [
    "instructions = \"Instructions: Consider the following images:\"\n",
    "prompt1 = \"What is shown in each of the images ?\"\n",
    "prompt2 = \"\"\"\n",
    "Answer the question through these steps:\n",
    "Step 1: Identify if any text is written in the images\n",
    "Step 2: Identify any doodles/pictures in the images\n",
    "Step 3: Grasp the collective meaning of each of the images\n",
    "Step 4: What does all the images tell as a whole about the personality of the person who wrote it?\n",
    "Answer and describe the steps taken:\n",
    "\"\"\"\n",
    "images = images[0:4]\n",
    "\n",
    "images.insert(0, prompt2)\n",
    "images.insert(0, prompt1)\n",
    "images.insert(0, instructions)\n",
    "display(images)\n",
    "\n",
    "responses = model.generate_content(images)\n",
    "\n",
    "print(\"-------Prompt--------\")\n",
    "print(images)\n",
    "\n",
    "print(\"\\n-------Response--------\")\n",
    "for response in responses:\n",
    "    print(response.text, end=\"\")\n",
    "    "
   ]
  },
  {
   "cell_type": "markdown",
   "metadata": {},
   "source": [
    "<div class=\"anchor\" id=\"top\" style=\"\n",
    "    margin-right: auto; \n",
    "    margin-left: auto;\n",
    "    padding: 10px;\n",
    "   font-size : 120%;\n",
    "    background-color: #F9F1FF                              ;\n",
    "    border-radius: 2px;      \n",
    "    border: 2px solid #FFF6D8;\">\n",
    "    \n",
    "References : \n",
    "    \n",
    "- [Gemini API Starter Notebook](https://www.kaggle.com/code/prathameshbang/gemini-api-starter-notebook/notebook)\n",
    "- [Working with video in Python by Rob Mulla](https://www.kaggle.com/code/robikscube/working-with-video-in-python-youtube-tutorial/notebook)"
   ]
  },
  {
   "cell_type": "markdown",
   "metadata": {},
   "source": [
    "<center><font size = 4><span style=\"color:#F5F5E6\"> <p style=\"background-color:#532925;font-family:courier;color:#FFFFFF;font-size:180%;text-align:center;border-radius: 10px 5px;padding : 2px\">Upvote if you find it useful 👆</p>   </span></font></center> "
   ]
  }
 ],
 "metadata": {
  "kaggle": {
   "accelerator": "none",
   "dataSources": [],
   "dockerImageVersionId": 30626,
   "isGpuEnabled": false,
   "isInternetEnabled": true,
   "language": "python",
   "sourceType": "notebook"
  },
  "kernelspec": {
   "display_name": "Python 3 (ipykernel)",
   "language": "python",
   "name": "python3"
  },
  "language_info": {
   "codemirror_mode": {
    "name": "ipython",
    "version": 3
   },
   "file_extension": ".py",
   "mimetype": "text/x-python",
   "name": "python",
   "nbconvert_exporter": "python",
   "pygments_lexer": "ipython3",
   "version": "3.12.0"
  }
 },
 "nbformat": 4,
 "nbformat_minor": 4
}
